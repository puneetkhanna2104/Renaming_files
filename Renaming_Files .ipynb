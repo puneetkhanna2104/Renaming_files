{
 "cells": [
  {
   "cell_type": "markdown",
   "metadata": {},
   "source": [
    "# Renaming files in a folder "
   ]
  },
  {
   "cell_type": "code",
   "execution_count": null,
   "metadata": {},
   "outputs": [],
   "source": [
    "# Import os module \n",
    "import os\n",
    "\n",
    "# path of the folder whose files you want to rename.\n",
    "path=\"folder_name\"\n",
    "\n",
    "i=0\n",
    "for file in os.listdir(path):\n",
    "    src=path+'/'+file                     # path of the file to be renamed\n",
    "    dst=path+'/'+\"new_name\"+ str(i)       # path with the new name of the file \n",
    "    print(dst)\n",
    "    os.rename(src,dst)                    # renaming files \n",
    "    i+=1\n"
   ]
  }
 ],
 "metadata": {
  "kernelspec": {
   "display_name": "Python 3",
   "language": "python",
   "name": "python3"
  },
  "language_info": {
   "codemirror_mode": {
    "name": "ipython",
    "version": 3
   },
   "file_extension": ".py",
   "mimetype": "text/x-python",
   "name": "python",
   "nbconvert_exporter": "python",
   "pygments_lexer": "ipython3",
   "version": "3.7.1"
  }
 },
 "nbformat": 4,
 "nbformat_minor": 2
}
